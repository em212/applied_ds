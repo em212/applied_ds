{
 "cells": [
  {
   "cell_type": "markdown",
   "metadata": {},
   "source": [
    "# Kickstarter EDA\n",
    "This is the beginning of an exploratory data analysis of the kickstarter dataset from webrobots.io.\n",
    "\n",
    "Webrobots.io runs a monthly scrape of Kickstarter's website, and posts the results [here](https://webrobots.io/kickstarter-datasets/) <br><br>\n",
    "The dataset I'm working with was scraped on 2/2019, and contains historical projects as well as active ones<br><br>\n",
    "Kickstarter limits the number of results that it shows in a particular project category, so not all projects are shown here<br><br>"
   ]
  },
  {
   "cell_type": "markdown",
   "metadata": {},
   "source": [
    "# Data Cleaning\n",
    "Most of the data cleaning done so far has been around selecting interesting columns that I think will be useful for an analysis. \n",
    "\n",
    "The original dataset had over 30 columns, much of it was either duplicates, or urls for images used on the project pages\n",
    "\n",
    "The remaining data cleaning work has been focused around pulling data out of JSON objects from the original dataset\n",
    "\n",
    "The merging and cleaning scripts will be posted on Github later"
   ]
  },
  {
   "cell_type": "code",
   "execution_count": 1,
   "metadata": {},
   "outputs": [],
   "source": [
    "import pandas as pd\n",
    "import seaborn as sb\n",
    "import matplotlib.pyplot as plt\n",
    "import numpy as np\n",
    "import sklearn as skl\n",
    "import datetime\n",
    "import pdb"
   ]
  },
  {
   "cell_type": "code",
   "execution_count": 2,
   "metadata": {},
   "outputs": [],
   "source": [
    "df = pd.read_csv('2019KickDataCleaned.csv', index_col = 0)"
   ]
  },
  {
   "cell_type": "markdown",
   "metadata": {},
   "source": [
    "Check out the data to see if it was imported correctly. \n",
    "\n",
    "All of the columns that are time/date related are in epoch time, and I've decided to leave it that way for now since it makes it easier to do things like calculate elapsed times"
   ]
  },
  {
   "cell_type": "code",
   "execution_count": 3,
   "metadata": {},
   "outputs": [
    {
     "data": {
      "text/html": [
       "<div>\n",
       "<style scoped>\n",
       "    .dataframe tbody tr th:only-of-type {\n",
       "        vertical-align: middle;\n",
       "    }\n",
       "\n",
       "    .dataframe tbody tr th {\n",
       "        vertical-align: top;\n",
       "    }\n",
       "\n",
       "    .dataframe thead th {\n",
       "        text-align: right;\n",
       "    }\n",
       "</style>\n",
       "<table border=\"1\" class=\"dataframe\">\n",
       "  <thead>\n",
       "    <tr style=\"text-align: right;\">\n",
       "      <th></th>\n",
       "      <th>backers_count</th>\n",
       "      <th>blurb</th>\n",
       "      <th>country</th>\n",
       "      <th>created_at</th>\n",
       "      <th>creator</th>\n",
       "      <th>currency</th>\n",
       "      <th>deadline</th>\n",
       "      <th>goal</th>\n",
       "      <th>id</th>\n",
       "      <th>launched_at</th>\n",
       "      <th>...</th>\n",
       "      <th>slug</th>\n",
       "      <th>spotlight</th>\n",
       "      <th>staff_pick</th>\n",
       "      <th>state</th>\n",
       "      <th>state_changed_at</th>\n",
       "      <th>urls</th>\n",
       "      <th>usd_pledged</th>\n",
       "      <th>subcats</th>\n",
       "      <th>fullcats</th>\n",
       "      <th>city</th>\n",
       "    </tr>\n",
       "  </thead>\n",
       "  <tbody>\n",
       "    <tr>\n",
       "      <th>0</th>\n",
       "      <td>9</td>\n",
       "      <td>A comedy web series about the inherently funny...</td>\n",
       "      <td>US</td>\n",
       "      <td>1489891481</td>\n",
       "      <td>915430313</td>\n",
       "      <td>USD</td>\n",
       "      <td>1494132705</td>\n",
       "      <td>5000.0</td>\n",
       "      <td>1203770415</td>\n",
       "      <td>1491540705</td>\n",
       "      <td>...</td>\n",
       "      <td>the-start-up-0</td>\n",
       "      <td>False</td>\n",
       "      <td>False</td>\n",
       "      <td>failed</td>\n",
       "      <td>1494132705</td>\n",
       "      <td>https://www.kickstarter.com/projects/915430313...</td>\n",
       "      <td>508.000000</td>\n",
       "      <td>Comedy</td>\n",
       "      <td>film &amp; video</td>\n",
       "      <td>Austin, TX</td>\n",
       "    </tr>\n",
       "    <tr>\n",
       "      <th>1</th>\n",
       "      <td>36</td>\n",
       "      <td>Cabo y un Capitán, dos soldados villistas, tra...</td>\n",
       "      <td>MX</td>\n",
       "      <td>1508479978</td>\n",
       "      <td>1011928721</td>\n",
       "      <td>MXN</td>\n",
       "      <td>1512917074</td>\n",
       "      <td>65000.0</td>\n",
       "      <td>878861613</td>\n",
       "      <td>1509893074</td>\n",
       "      <td>...</td>\n",
       "      <td>los-muertos-de-columbus-the-dead-of-columbus</td>\n",
       "      <td>True</td>\n",
       "      <td>False</td>\n",
       "      <td>successful</td>\n",
       "      <td>1512917074</td>\n",
       "      <td>https://www.kickstarter.com/projects/101192872...</td>\n",
       "      <td>3397.485019</td>\n",
       "      <td>Shorts</td>\n",
       "      <td>film &amp; video</td>\n",
       "      <td>Mexico City, Mexico</td>\n",
       "    </tr>\n",
       "    <tr>\n",
       "      <th>2</th>\n",
       "      <td>61</td>\n",
       "      <td>We're building the new home of Māori Theatre a...</td>\n",
       "      <td>NZ</td>\n",
       "      <td>1426499822</td>\n",
       "      <td>1902194044</td>\n",
       "      <td>NZD</td>\n",
       "      <td>1429596000</td>\n",
       "      <td>10000.0</td>\n",
       "      <td>917345297</td>\n",
       "      <td>1427147079</td>\n",
       "      <td>...</td>\n",
       "      <td>whare-no-name-the-new-home-of-maori-theatre</td>\n",
       "      <td>True</td>\n",
       "      <td>False</td>\n",
       "      <td>successful</td>\n",
       "      <td>1429596012</td>\n",
       "      <td>https://www.kickstarter.com/projects/190219404...</td>\n",
       "      <td>7834.340234</td>\n",
       "      <td>Theater</td>\n",
       "      <td>theater</td>\n",
       "      <td>Auckland, NZ</td>\n",
       "    </tr>\n",
       "    <tr>\n",
       "      <th>3</th>\n",
       "      <td>1730</td>\n",
       "      <td>Comic-book stories celebrate women who crack c...</td>\n",
       "      <td>US</td>\n",
       "      <td>1482813229</td>\n",
       "      <td>121124061</td>\n",
       "      <td>USD</td>\n",
       "      <td>1489666144</td>\n",
       "      <td>40000.0</td>\n",
       "      <td>1702164653</td>\n",
       "      <td>1487077744</td>\n",
       "      <td>...</td>\n",
       "      <td>femme-magnifique</td>\n",
       "      <td>True</td>\n",
       "      <td>True</td>\n",
       "      <td>successful</td>\n",
       "      <td>1489666144</td>\n",
       "      <td>https://www.kickstarter.com/projects/hificolou...</td>\n",
       "      <td>97447.000000</td>\n",
       "      <td>Anthologies</td>\n",
       "      <td>comics</td>\n",
       "      <td>Scottsdale, AZ</td>\n",
       "    </tr>\n",
       "    <tr>\n",
       "      <th>4</th>\n",
       "      <td>183</td>\n",
       "      <td>A Victorian “gaslamp” lesbian romance, set in ...</td>\n",
       "      <td>US</td>\n",
       "      <td>1506228739</td>\n",
       "      <td>484654302</td>\n",
       "      <td>USD</td>\n",
       "      <td>1510473540</td>\n",
       "      <td>2000.0</td>\n",
       "      <td>1042930184</td>\n",
       "      <td>1507662001</td>\n",
       "      <td>...</td>\n",
       "      <td>miss-bullards-school-for-former-ladies</td>\n",
       "      <td>True</td>\n",
       "      <td>False</td>\n",
       "      <td>successful</td>\n",
       "      <td>1510473540</td>\n",
       "      <td>https://www.kickstarter.com/projects/484654302...</td>\n",
       "      <td>3911.000000</td>\n",
       "      <td>Video Games</td>\n",
       "      <td>games</td>\n",
       "      <td>San Francisco, CA</td>\n",
       "    </tr>\n",
       "  </tbody>\n",
       "</table>\n",
       "<p>5 rows × 21 columns</p>\n",
       "</div>"
      ],
      "text/plain": [
       "   backers_count                                              blurb country  \\\n",
       "0              9  A comedy web series about the inherently funny...      US   \n",
       "1             36  Cabo y un Capitán, dos soldados villistas, tra...      MX   \n",
       "2             61  We're building the new home of Māori Theatre a...      NZ   \n",
       "3           1730  Comic-book stories celebrate women who crack c...      US   \n",
       "4            183  A Victorian “gaslamp” lesbian romance, set in ...      US   \n",
       "\n",
       "   created_at     creator currency    deadline     goal          id  \\\n",
       "0  1489891481   915430313      USD  1494132705   5000.0  1203770415   \n",
       "1  1508479978  1011928721      MXN  1512917074  65000.0   878861613   \n",
       "2  1426499822  1902194044      NZD  1429596000  10000.0   917345297   \n",
       "3  1482813229   121124061      USD  1489666144  40000.0  1702164653   \n",
       "4  1506228739   484654302      USD  1510473540   2000.0  1042930184   \n",
       "\n",
       "   launched_at         ...           \\\n",
       "0   1491540705         ...            \n",
       "1   1509893074         ...            \n",
       "2   1427147079         ...            \n",
       "3   1487077744         ...            \n",
       "4   1507662001         ...            \n",
       "\n",
       "                                           slug spotlight  staff_pick  \\\n",
       "0                                the-start-up-0     False       False   \n",
       "1  los-muertos-de-columbus-the-dead-of-columbus      True       False   \n",
       "2   whare-no-name-the-new-home-of-maori-theatre      True       False   \n",
       "3                              femme-magnifique      True        True   \n",
       "4        miss-bullards-school-for-former-ladies      True       False   \n",
       "\n",
       "        state state_changed_at  \\\n",
       "0      failed       1494132705   \n",
       "1  successful       1512917074   \n",
       "2  successful       1429596012   \n",
       "3  successful       1489666144   \n",
       "4  successful       1510473540   \n",
       "\n",
       "                                                urls   usd_pledged  \\\n",
       "0  https://www.kickstarter.com/projects/915430313...    508.000000   \n",
       "1  https://www.kickstarter.com/projects/101192872...   3397.485019   \n",
       "2  https://www.kickstarter.com/projects/190219404...   7834.340234   \n",
       "3  https://www.kickstarter.com/projects/hificolou...  97447.000000   \n",
       "4  https://www.kickstarter.com/projects/484654302...   3911.000000   \n",
       "\n",
       "       subcats      fullcats                 city  \n",
       "0       Comedy  film & video           Austin, TX  \n",
       "1       Shorts  film & video  Mexico City, Mexico  \n",
       "2      Theater       theater         Auckland, NZ  \n",
       "3  Anthologies        comics       Scottsdale, AZ  \n",
       "4  Video Games         games    San Francisco, CA  \n",
       "\n",
       "[5 rows x 21 columns]"
      ]
     },
     "execution_count": 3,
     "metadata": {},
     "output_type": "execute_result"
    }
   ],
   "source": [
    "df.head()"
   ]
  },
  {
   "cell_type": "code",
   "execution_count": 4,
   "metadata": {},
   "outputs": [
    {
     "data": {
      "text/html": [
       "<div>\n",
       "<style scoped>\n",
       "    .dataframe tbody tr th:only-of-type {\n",
       "        vertical-align: middle;\n",
       "    }\n",
       "\n",
       "    .dataframe tbody tr th {\n",
       "        vertical-align: top;\n",
       "    }\n",
       "\n",
       "    .dataframe thead th {\n",
       "        text-align: right;\n",
       "    }\n",
       "</style>\n",
       "<table border=\"1\" class=\"dataframe\">\n",
       "  <thead>\n",
       "    <tr style=\"text-align: right;\">\n",
       "      <th></th>\n",
       "      <th>backers_count</th>\n",
       "      <th>created_at</th>\n",
       "      <th>creator</th>\n",
       "      <th>deadline</th>\n",
       "      <th>goal</th>\n",
       "      <th>id</th>\n",
       "      <th>launched_at</th>\n",
       "      <th>state_changed_at</th>\n",
       "      <th>usd_pledged</th>\n",
       "    </tr>\n",
       "  </thead>\n",
       "  <tbody>\n",
       "    <tr>\n",
       "      <th>count</th>\n",
       "      <td>208240.000000</td>\n",
       "      <td>2.082400e+05</td>\n",
       "      <td>2.082400e+05</td>\n",
       "      <td>2.082400e+05</td>\n",
       "      <td>2.082400e+05</td>\n",
       "      <td>2.082400e+05</td>\n",
       "      <td>2.082400e+05</td>\n",
       "      <td>2.082400e+05</td>\n",
       "      <td>2.082400e+05</td>\n",
       "    </tr>\n",
       "    <tr>\n",
       "      <th>mean</th>\n",
       "      <td>146.213273</td>\n",
       "      <td>1.454714e+09</td>\n",
       "      <td>1.074468e+09</td>\n",
       "      <td>1.461640e+09</td>\n",
       "      <td>4.909297e+04</td>\n",
       "      <td>1.072924e+09</td>\n",
       "      <td>1.458817e+09</td>\n",
       "      <td>1.461459e+09</td>\n",
       "      <td>1.300566e+04</td>\n",
       "    </tr>\n",
       "    <tr>\n",
       "      <th>std</th>\n",
       "      <td>876.014770</td>\n",
       "      <td>6.233873e+07</td>\n",
       "      <td>6.202857e+08</td>\n",
       "      <td>6.197563e+07</td>\n",
       "      <td>1.181872e+06</td>\n",
       "      <td>6.197091e+08</td>\n",
       "      <td>6.200823e+07</td>\n",
       "      <td>6.184290e+07</td>\n",
       "      <td>8.766031e+04</td>\n",
       "    </tr>\n",
       "    <tr>\n",
       "      <th>min</th>\n",
       "      <td>0.000000</td>\n",
       "      <td>1.240366e+09</td>\n",
       "      <td>3.000000e+00</td>\n",
       "      <td>1.242468e+09</td>\n",
       "      <td>1.000000e-02</td>\n",
       "      <td>8.624000e+03</td>\n",
       "      <td>1.240920e+09</td>\n",
       "      <td>1.242468e+09</td>\n",
       "      <td>0.000000e+00</td>\n",
       "    </tr>\n",
       "    <tr>\n",
       "      <th>25%</th>\n",
       "      <td>4.000000</td>\n",
       "      <td>1.412760e+09</td>\n",
       "      <td>5.371463e+08</td>\n",
       "      <td>1.420038e+09</td>\n",
       "      <td>1.500000e+03</td>\n",
       "      <td>5.347041e+08</td>\n",
       "      <td>1.416943e+09</td>\n",
       "      <td>1.419869e+09</td>\n",
       "      <td>1.060000e+02</td>\n",
       "    </tr>\n",
       "    <tr>\n",
       "      <th>50%</th>\n",
       "      <td>27.000000</td>\n",
       "      <td>1.456788e+09</td>\n",
       "      <td>1.073502e+09</td>\n",
       "      <td>1.463603e+09</td>\n",
       "      <td>5.000000e+03</td>\n",
       "      <td>1.074857e+09</td>\n",
       "      <td>1.460752e+09</td>\n",
       "      <td>1.463505e+09</td>\n",
       "      <td>1.544000e+03</td>\n",
       "    </tr>\n",
       "    <tr>\n",
       "      <th>75%</th>\n",
       "      <td>89.000000</td>\n",
       "      <td>1.509249e+09</td>\n",
       "      <td>1.612665e+09</td>\n",
       "      <td>1.516428e+09</td>\n",
       "      <td>1.500000e+04</td>\n",
       "      <td>1.608201e+09</td>\n",
       "      <td>1.513365e+09</td>\n",
       "      <td>1.516385e+09</td>\n",
       "      <td>6.614000e+03</td>\n",
       "    </tr>\n",
       "    <tr>\n",
       "      <th>max</th>\n",
       "      <td>105857.000000</td>\n",
       "      <td>1.550094e+09</td>\n",
       "      <td>2.147483e+09</td>\n",
       "      <td>1.555299e+09</td>\n",
       "      <td>1.000000e+08</td>\n",
       "      <td>2.147476e+09</td>\n",
       "      <td>1.550119e+09</td>\n",
       "      <td>1.550119e+09</td>\n",
       "      <td>8.596475e+06</td>\n",
       "    </tr>\n",
       "  </tbody>\n",
       "</table>\n",
       "</div>"
      ],
      "text/plain": [
       "       backers_count    created_at       creator      deadline          goal  \\\n",
       "count  208240.000000  2.082400e+05  2.082400e+05  2.082400e+05  2.082400e+05   \n",
       "mean      146.213273  1.454714e+09  1.074468e+09  1.461640e+09  4.909297e+04   \n",
       "std       876.014770  6.233873e+07  6.202857e+08  6.197563e+07  1.181872e+06   \n",
       "min         0.000000  1.240366e+09  3.000000e+00  1.242468e+09  1.000000e-02   \n",
       "25%         4.000000  1.412760e+09  5.371463e+08  1.420038e+09  1.500000e+03   \n",
       "50%        27.000000  1.456788e+09  1.073502e+09  1.463603e+09  5.000000e+03   \n",
       "75%        89.000000  1.509249e+09  1.612665e+09  1.516428e+09  1.500000e+04   \n",
       "max    105857.000000  1.550094e+09  2.147483e+09  1.555299e+09  1.000000e+08   \n",
       "\n",
       "                 id   launched_at  state_changed_at   usd_pledged  \n",
       "count  2.082400e+05  2.082400e+05      2.082400e+05  2.082400e+05  \n",
       "mean   1.072924e+09  1.458817e+09      1.461459e+09  1.300566e+04  \n",
       "std    6.197091e+08  6.200823e+07      6.184290e+07  8.766031e+04  \n",
       "min    8.624000e+03  1.240920e+09      1.242468e+09  0.000000e+00  \n",
       "25%    5.347041e+08  1.416943e+09      1.419869e+09  1.060000e+02  \n",
       "50%    1.074857e+09  1.460752e+09      1.463505e+09  1.544000e+03  \n",
       "75%    1.608201e+09  1.513365e+09      1.516385e+09  6.614000e+03  \n",
       "max    2.147476e+09  1.550119e+09      1.550119e+09  8.596475e+06  "
      ]
     },
     "execution_count": 4,
     "metadata": {},
     "output_type": "execute_result"
    }
   ],
   "source": [
    "df.describe()"
   ]
  },
  {
   "cell_type": "markdown",
   "metadata": {},
   "source": [
    "# Data Skewed-ness\n",
    "\n",
    "From a first look at the descriptive statistics on the dataset, the data seems to be heavily skewed.\n",
    "\n",
    "The means and medians (50%) for \"goal\", and \"usd_pledged\", are off by an order of magnitude.\n",
    "\n",
    "I know there's a lot of different categories of projects, and some of the skew is probably due to different funding goals for different categories of projects (ex. A video publishing project needs a lot less money than the first run of a new hardware device)"
   ]
  },
  {
   "cell_type": "code",
   "execution_count": 5,
   "metadata": {},
   "outputs": [
    {
     "data": {
      "text/plain": [
       "Index(['backers_count', 'blurb', 'country', 'created_at', 'creator',\n",
       "       'currency', 'deadline', 'goal', 'id', 'launched_at', 'name', 'slug',\n",
       "       'spotlight', 'staff_pick', 'state', 'state_changed_at', 'urls',\n",
       "       'usd_pledged', 'subcats', 'fullcats', 'city'],\n",
       "      dtype='object')"
      ]
     },
     "execution_count": 5,
     "metadata": {},
     "output_type": "execute_result"
    }
   ],
   "source": [
    "df.columns"
   ]
  },
  {
   "cell_type": "code",
   "execution_count": 6,
   "metadata": {},
   "outputs": [
    {
     "data": {
      "text/plain": [
       "0.6092480387117543"
      ]
     },
     "execution_count": 6,
     "metadata": {},
     "output_type": "execute_result"
    }
   ],
   "source": [
    "#Filter out projects that are live, canceled, or suspended\n",
    "fil = df[(df['state'] == 'successful')|(df['state'] =='failed')] \n",
    "sucMask = fil.state == 'successful'\n",
    "suc = fil[sucMask]\n",
    "fSuc = len(suc)/len(fil)\n",
    "fSuc"
   ]
  },
  {
   "cell_type": "markdown",
   "metadata": {},
   "source": [
    "## Relative frequency of successful projects\n",
    "\n",
    "I'm focusing my analysis on projects that have completed their funding campaigns, so I'm filtering out any projects that were canceled, suspended, or currently active\n",
    "\n",
    "It seems around 60% of projects that finish their funding campaigns successfully reach their goals"
   ]
  },
  {
   "cell_type": "code",
   "execution_count": 7,
   "metadata": {},
   "outputs": [
    {
     "data": {
      "text/plain": [
       "<matplotlib.axes._subplots.AxesSubplot at 0x11be17400>"
      ]
     },
     "execution_count": 7,
     "metadata": {},
     "output_type": "execute_result"
    },
    {
     "data": {
      "text/plain": [
       "<Figure size 43200x21600 with 0 Axes>"
      ]
     },
     "metadata": {},
     "output_type": "display_data"
    },
    {
     "data": {
      "image/png": "[encoded data removed]",
      "text/plain": [
       "<Figure size 432x288 with 1 Axes>"
      ]
     },
     "metadata": {
      "needs_background": "light"
     },
     "output_type": "display_data"
    }
   ],
   "source": [
    "# Compare the money raised by succesfull projects against all projects in a certain category\n",
    "money = pd.DataFrame()\n",
    "grp = fil.groupby(['fullcats'])\n",
    "sucGrp = suc.groupby(['fullcats'])\n",
    "money['AvgRaised'] = grp.usd_pledged.agg(np.mean)\n",
    "money['SucAvgRaised'] = sucGrp.usd_pledged.agg(np.mean)\n",
    "money['MedianRaised'] = grp.usd_pledged.agg(np.median)\n",
    "money['MedianSucc'] = sucGrp.usd_pledged.agg(np.median)\n",
    "#money.reset_index(inplace = True)\n",
    "plt.figure(figsize=(600,300))\n",
    "money.plot(kind = 'bar')"
   ]
  },
  {
   "cell_type": "markdown",
   "metadata": {},
   "source": [
    "# Comparing the Money Raised\n",
    "The chart above compares average money pledged to projects in different categories against average raised in succesfully funded projects. It also gives a comparison of the medians for each category\n",
    "\n",
    "As was seen in the descriptive statistics, there's a heavy skew here. Based on the median pledge totals, it seems like a lot of projects raise almost no money at all"
   ]
  },
  {
   "cell_type": "code",
   "execution_count": 9,
   "metadata": {},
   "outputs": [
    {
     "data": {
      "text/plain": [
       "<matplotlib.axes._subplots.AxesSubplot at 0x11d0f6898>"
      ]
     },
     "execution_count": 9,
     "metadata": {},
     "output_type": "execute_result"
    },
    {
     "data": {
      "text/plain": [
       "<Figure size 43200x21600 with 0 Axes>"
      ]
     },
     "metadata": {},
     "output_type": "display_data"
    },
    {
     "data": {
      "image/png": "[encoded data removed]",
      "text/plain": [
       "<Figure size 432x288 with 1 Axes>"
      ]
     },
     "metadata": {
      "needs_background": "light"
     },
     "output_type": "display_data"
    }
   ],
   "source": [
    "# Compare the funding goals for successful projects in each category vs. the funding goals of all projects\n",
    "goal = pd.DataFrame()\n",
    "goal['avgGoal'] = grp.goal.agg(np.mean)\n",
    "goal['sucAvgGoal'] = sucGrp.goal.agg(np.mean)\n",
    "goal['medGoal'] = grp.goal.agg(np.median)\n",
    "goal['sucMedGoal'] = sucGrp.goal.agg(np.median)\n",
    "plt.figure(figsize=(600,300))\n",
    "goal.plot(kind = 'bar')"
   ]
  },
  {
   "cell_type": "markdown",
   "metadata": {},
   "source": [
    "## Comparing pledge goals\n",
    "\n",
    "The same skew shows up in the fundraising goals for each project, there seems to be a few projects that have very high funding goals.\n",
    "\n",
    "What's interesting here is that most projects have significantly lower funding goals than the top projects. It's difficult to see, but it also seems there's a relatively small difference in the median funding goals between successful projects and all projects"
   ]
  },
  {
   "cell_type": "code",
   "execution_count": 10,
   "metadata": {},
   "outputs": [
    {
     "data": {
      "text/plain": [
       "<matplotlib.axes._subplots.AxesSubplot at 0x11d0f6b00>"
      ]
     },
     "execution_count": 10,
     "metadata": {},
     "output_type": "execute_result"
    },
    {
     "data": {
      "image/png": "[encoded data removed]",
      "text/plain": [
       "<Figure size 432x288 with 1 Axes>"
      ]
     },
     "metadata": {
      "needs_background": "light"
     },
     "output_type": "display_data"
    }
   ],
   "source": [
    "# Look at the number of backers for successful projects in each category vs. the backers for all projects\n",
    "backers = pd.DataFrame()\n",
    "backers['avgBackers'] = grp.backers_count.mean()\n",
    "backers['sucAvgBackers'] = sucGrp.backers_count.mean()\n",
    "backers['medianBackers'] = grp.backers_count.median()\n",
    "backers['sucMedianBackers'] = sucGrp.backers_count.median()\n",
    "#backers.reset_index(inplace = True)\n",
    "backers.plot(kind = 'bar')"
   ]
  },
  {
   "cell_type": "markdown",
   "metadata": {},
   "source": [
    "## Backers information\n",
    "\n",
    "No surprises that succesfully funded projects have more backers than the general population\n",
    "\n",
    "The average number of backers for each category seems to give more evidence to a few very popular projects skewing the average\n",
    "\n",
    "Since this is just a count of total number of backers, and not the amounts they pledged, the top projects not only raise much larger amounts of money, but they also get a very large number of small donors as well\n",
    "\n",
    "I need to compare average pledges across these projects"
   ]
  },
  {
   "cell_type": "code",
   "execution_count": 21,
   "metadata": {},
   "outputs": [
    {
     "data": {
      "text/plain": [
       "<matplotlib.axes._subplots.AxesSubplot at 0x11d8ed0f0>"
      ]
     },
     "execution_count": 21,
     "metadata": {},
     "output_type": "execute_result"
    },
    {
     "data": {
      "image/png": "[encoded data removed]",
      "text/plain": [
       "<Figure size 432x288 with 1 Axes>"
      ]
     },
     "metadata": {
      "needs_background": "light"
     },
     "output_type": "display_data"
    }
   ],
   "source": [
    "# Look at the number of successfully funded projects in each category vs. the total number of projects\n",
    "counts = pd.DataFrame()\n",
    "counts['Total'] = grp.size()\n",
    "counts['Successful'] = sucGrp.size()\n",
    "#counts.reset_index(inplace = True)\n",
    "counts.plot(kind = 'bar')"
   ]
  },
  {
   "cell_type": "markdown",
   "metadata": {},
   "source": [
    "## Funding success across categories\n",
    "\n",
    "Not a lot of love for journalism projects on kickstarter, but users of the website seem to love comics, dance, and theater projects"
   ]
  },
  {
   "cell_type": "code",
   "execution_count": 20,
   "metadata": {},
   "outputs": [
    {
     "name": "stdout",
     "output_type": "stream",
     "text": [
      "0.7817180098767091\n"
     ]
    }
   ],
   "source": [
    "#Filter the projects list down to projects that raised at least $100\n",
    "moMoney = fil[fil['usd_pledged'] > 100]\n",
    "moMoneySucc = moMoney[moMoney['state'] == 'successful' ]\n",
    "ratio = len(moMoneySucc) / len(moMoney)\n",
    "print(ratio)"
   ]
  },
  {
   "cell_type": "markdown",
   "metadata": {},
   "source": [
    "## Success rate of projects above a certain amount raised\n",
    "\n",
    "Wow. The original success rate for all projects was around 60%.\n",
    "\n",
    "For projects that raised a minimum of $100, that success rate shoots up to 80%\n",
    "\n",
    "I need to compare that information against funding goals in each category, and compare this succsess rate in each category"
   ]
  },
  {
   "cell_type": "code",
   "execution_count": null,
   "metadata": {},
   "outputs": [],
   "source": []
  },
  {
   "cell_type": "code",
   "execution_count": null,
   "metadata": {},
   "outputs": [],
   "source": []
  },
  {
   "cell_type": "code",
   "execution_count": null,
   "metadata": {},
   "outputs": [],
   "source": []
  }
 ],
 "metadata": {
  "kernelspec": {
   "display_name": "Python 3",
   "language": "python",
   "name": "python3"
  },
  "language_info": {
   "codemirror_mode": {
    "name": "ipython",
    "version": 3
   },
   "file_extension": ".py",
   "mimetype": "text/x-python",
   "name": "python",
   "nbconvert_exporter": "python",
   "pygments_lexer": "ipython3",
   "version": "3.7.1"
  }
 },
 "nbformat": 4,
 "nbformat_minor": 2
}
